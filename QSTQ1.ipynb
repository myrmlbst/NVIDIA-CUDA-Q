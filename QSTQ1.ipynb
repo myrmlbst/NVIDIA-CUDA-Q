{
 "cells": [
  {
   "cell_type": "markdown",
   "metadata": {
    "colab_type": "text",
    "id": "view-in-github"
   },
   "source": [
    "<a href=\"https://account.qbraid.com?gitHubUrl=https://github.com/NVIDIA/cuda-q-academic.git&redirectUrl=quick-start-to-quantum/01_quick_start_to_quantum.ipynb\" target=\"_parent\"><img src=\"https://qbraid-static.s3.amazonaws.com/logos/Launch_on_qBraid_white.png\" alt=\"Launch On qBraid\" width=\"150\"/></a>\n",
    "\n",
    "<a href=\"https://colab.research.google.com/github/NVIDIA/cuda-q-academic/blob/main/quick-start-to-quantum/01_quick_start_to_quantum.ipynb\" target=\"_parent\"><img src=\"https://colab.research.google.com/assets/colab-badge.svg\" alt=\"Open In Colab\" width=\"150\"/></a>"
   ]
  },
  {
   "cell_type": "code",
   "execution_count": null,
   "id": "eead95ce",
   "metadata": {},
   "outputs": [],
   "source": [
    "# SPDX-License-Identifier: Apache-2.0 AND CC-BY-NC-4.0\n",
    "#\n",
    "# Licensed under the Apache License, Version 2.0 (the \"License\");\n",
    "# you may not use this file except in compliance with the License.\n",
    "# You may obtain a copy of the License at\n",
    "#\n",
    "# http://www.apache.org/licenses/LICENSE-2.0\n",
    "#\n",
    "# Unless required by applicable law or agreed to in writing, software\n",
    "# distributed under the License is distributed on an \"AS IS\" BASIS,\n",
    "# WITHOUT WARRANTIES OR CONDITIONS OF ANY KIND, either express or implied.\n",
    "# See the License for the specific language governing permissions and\n",
    "# limitations under the License."
   ]
  },
  {
   "cell_type": "markdown",
   "id": "287d2b16",
   "metadata": {},
   "source": [
    "# Quick Start to Quantum Programming with CUDA-Q\n",
    "# Lab 1 - Start Small: Quantum programming with one qubit"
   ]
  },
  {
   "cell_type": "markdown",
   "id": "9c120e4e",
   "metadata": {},
   "source": [
    "## Overview\n",
    "\n",
    "This lab starts with an introduction to quantum computing by comparing it to classical computation. It specifically defines the concepts of qubits and quantum operations using both visual and mathematical representations. These two concepts are all you need to begin coding. By the end of the lab, you'll have written not just your first, but several quantum programs using CUDA-Q!\n",
    "\n",
    "**What you'll do:**\n",
    "* Define and visualize single-qubit states and operations\n",
    "* Write your first quantum programs\n",
    "* Interpret the results of a quantum program\n",
    "\n",
    "**Terminology you'll use:**\n",
    "* quantum state\n",
    "* probability amplitudes\n",
    "* superposition\n",
    "* kernel\n",
    "* quantum circuit\n",
    "* measurement\n",
    "* sample\n",
    "* quasi-probability distribution\n",
    "* sampling error\n",
    "\n",
    "**CUDA-Q syntax you'll use:**\n",
    "* defining a quantum kernel: `@cudaq.kernel`\n",
    "* qubit initialization: `cudaq.qvector` and `cudaq.qubit`\n",
    "* quantum gates: `x` and `h`\n",
    "* extracting information from a kernel: `get_state`, `sample`\n",
    "* visualization tools: `add_to_bloch_sphere`, `show`, `draw`\n",
    "\n",
    "\n",
    "\n"
   ]
  },
  {
   "cell_type": "markdown",
   "id": "b5046650",
   "metadata": {},
   "source": [
    "Execute the cell below to load all the necessary packages for this lab."
   ]
  },
  {
   "cell_type": "code",
   "execution_count": null,
   "id": "63383b12",
   "metadata": {},
   "outputs": [],
   "source": [
    "# Instructions for Google Colab. You can ignore this cell if you have cuda-q set up.\n",
    "# Run this notebook in a CPU runtime\n",
    "# Uncomment the line below and execute the cell to install cuda-q\n",
    "# !pip install cudaq"
   ]
  },
  {
   "cell_type": "code",
   "execution_count": 2,
   "id": "644b9c82",
   "metadata": {},
   "outputs": [],
   "source": [
    "# Necessary packages\n",
    "\n",
    "import cudaq\n",
    "import numpy as np"
   ]
  },
  {
   "cell_type": "code",
   "execution_count": 3,
   "id": "111772f8",
   "metadata": {},
   "outputs": [],
   "source": [
    "# install `qutip` in the current Python kernel. Skip this if `qutip` is already installed.\n",
    "# `matplotlib` is required for all visualization tasks.\n",
    "# Make sure to restart your kernel if you execute this!\n",
    "# In a Jupyter notebook, go to the menu bar > Kernel > Restart Kernel.\n",
    "# In VSCode, click on the Restart button in the Jupyter toolbar.\n",
    "\n",
    "# The '\\' before the '>' operator is so that the shell does not misunderstand\n",
    "# the '>' qualifier for the bash pipe operation.\n",
    "\n",
    "import sys\n",
    "\n",
    "try:\n",
    "    import matplotlib.pyplot as plt\n",
    "    import qutip\n",
    "\n",
    "except ImportError:\n",
    "    print(\"Tools not found, installing. Please restart your kernel after this is done.\")\n",
    "    !{sys.executable} -m pip install qutip\\>=5 matplotlib\\>=3.5\n",
    "    print(\"\\nNew libraries have been installed. Please restart your kernel!\")"
   ]
  },
  {
   "cell_type": "markdown",
   "id": "3082d973",
   "metadata": {},
   "source": [
    "## 1.1 Overview of Quantum Computing\n",
    "\n",
    "Watch [this presentation](http://www.youtube.com/watch?v=gevJ5xU_WUA) to understand quantum computing fundamentals and discover the current challenges in developing practical quantum computers. You'll learn how GPUs and CUDA-Q are essential for both quantum simulation and the development of future accelerated quantum supercomputers. This overview might inspire you to continue learning how to program in CUDA-Q."
   ]
  },
  {
   "cell_type": "markdown",
   "id": "c2fa8e57-2f20-4d1b-a8c1-a8291da83fdc",
   "metadata": {},
   "source": [
    "## 1.2 Define single-qubit states and operations\n",
    "\n",
    "Computation involves storing and manipulating information. What distinguishes quantum computing from classical computing is the way in which information is represented and manipulated. We'll first review how information is represented in classical or digital computing and then contrast this with how information is represented in a quantum program. \n"
   ]
  },
  {
   "cell_type": "markdown",
   "id": "8499ab12",
   "metadata": {},
   "source": [
    "### 1.2.1 Classical bits\n",
    "\n",
    "  The basic unit of information in classical computing is a *bit*. A bit stores information by taking on the value (sometimes referred to as a state) of either 0 or 1.  We can use the notation $b=0$ to describe a bit $b$ in the state $0$. One way to visualize this is an arrow (or a unit vector).  If the vector is pointing up, the bit is in the state 0 and if the vector points down, the bit is in the state 1.  Classical computing can change the state of a bit by changing it from a 0 to a 1 or vice versa. This operation is known as a bit-flip, and visually looks like flipping the direction of the vector from up to down or vice versa.\n",
    "\n",
    "<img src=\"https://raw.githubusercontent.com/NVIDIA/cuda-q-academic/main/images/bits.png\" alt=\"vectors representing bits in the state 0 and the state 1\" width=\"200\"/>"
   ]
  },
  {
   "cell_type": "markdown",
   "id": "65e19333",
   "metadata": {},
   "source": [
    "### 1.2.2 Qubits"
   ]
  },
  {
   "cell_type": "markdown",
   "id": "fe371889",
   "metadata": {},
   "source": [
    "$\\newcommand{\\ket}[1]{|#1\\rangle}$\n",
    "\n",
    "In quantum computing, instead of bits, information is stored in *qubits*.  While a single bit can only be in one of 2 states at a given time, a single qubit can be in one of infinitely many states! This suggests that we might be able to handle information more efficiently with qubits than we could with bits.\n",
    "\n",
    "There is a catch.  While there are infinitely many quantum states, we can't necessarily access all the information stored in these infinitely many states.  This is due to the uncertainty principle in quantum mechanics. Restriciting our focus on how uncertainty arises in quantum computation, let's look at the general structure of a quantum program. Many quantum programs start with initializing a quantum state, manipulating the state, and then measuring it.  When we measure a qubit, the act of measuring can change the quantum state of the qubit. For example, measuring may collapse the quantum state to of a single qubit to one of two classical states (e.g., 0 or 1). Measurement is how we extract useful information from a qubit. We'll explore this idea later in the notebook.\n",
    "\n",
    "To visualize qubits, we will extend the idea of representing a bit as a unit vector pointing up or down. A qubit, $q$, can be thought of as a unit vector pointing in any direction in 3D.  In other words, we can visualize a qubit as a vector on a sphere. The literature refers to this sphere as the Bloch sphere.  As a generalization of bits, we'll identify the vector pointing up (i.e., in the direction of the positive $z$-axis) with the zero state (see figure below). \n",
    "\n",
    "<img src=\"https://raw.githubusercontent.com/NVIDIA/cuda-q-academic/main/images/Blochsphere0.png\" alt=\"Bloch sphere representation of \\ket{0}\" width=\"200\"/>\n",
    "\n",
    "The zero state is denoted by $\\ket{0}$ and this notation is read as \"ket zero\" or \"zero ket\". The word \"ket\" comes from Dirac notation, which we'll describe in more detail later. The vector pointing down will represent the one state, which is abbreviated as $\\ket{1}$ and referred to as \"ket one\" or \"one ket\". \n",
    "\n",
    "In addition to the $\\ket{0}$  and $\\ket{1}$ states, there are infinitely many other quantum states.  Each of the infinitely many vectors on the Bloch sphere represents a different state.\n",
    "\n",
    "<img src=\"https://raw.githubusercontent.com/NVIDIA/cuda-q-academic/main/images/BlochsphereManyStates.png\" alt=\"Several states represented on the Bloch Sphere\" width=\"200\"/>\n",
    "\n",
    "> **Take note:** In order to do any computation, we will need a mechanism for changing the state of a qubit.  Quantum computing allows us to change the state of a single qubit through quantum operations which can be visualized as rotations of the sphere. We'll explore this in more detail later in this notebook.  \n",
    "\n",
    ">**FAQ:** *How does ‘infinitely many states’ with a qubit differ from \"analog computing\"? That is also infinite, no?*  \n",
    "\n",
    ">**Answer** Qubits can demonstrate the quantum properties of superposition, entanglement, and interference. Additionally, in analog computing, the way in which information is extracted from an analog state differs from what happens in quantum computing.  This is due to the way states are measured and the limitations imposted by the uncertainty principle in quantum mechanics.  We'll experiment with measurement and superposition in this notebook. Entanglement and interference are covered in the next notebook. \n",
    "\n",
    "Now that we have a visual representation of a qubit, let's establish some notation that will allow us to describe states and carry out quantum operations on these states.  We've already introduced the states $\\ket{0}$ and $\\ket{1}$.  We can identify $\\ket{0}$ with the vector $\\begin{pmatrix} 1 \\\\ 0\\end{pmatrix}$ and $\\ket{1}$ with the vector $\\begin{pmatrix} 0\\\\ 1\\end{pmatrix}$.  Then, for the purposes of this tutorial, any other quantum state $\\ket{\\psi}$ on the Bloch sphere can be written as a linear combination of $\\ket{0}$ and $\\ket{1}$ .  In other words, quantum states take the form\n",
    "\n",
    "$$\n",
    "\\ket{\\psi} = \\alpha\\ket{0}+\\beta\\ket{1},\n",
    "$$\n",
    "\n",
    "where $\\alpha$ and $\\beta$ are complex numbers satisfying the equation $|\\alpha|^2+|\\beta|^2 = 1$. The coefficients $\\alpha$ and $\\beta$ are referred to as *probability amplitudes*, or *amplitudes* for short. The restriction that $|\\alpha|^2+|\\beta|^2 = 1$ ensures that the state is on the Bloch sphere.\n",
    "\n",
    "Let's see how the expression $\n",
    "\\ket{\\psi} = \\alpha\\ket{0}+\\beta\\ket{1},\n",
    "$ maps to the Bloch sphere. First, we rewrite the coefficients $\\alpha$ and $\\beta$ in the following manner:\n",
    "\n",
    "$$\n",
    "\\alpha = \\cos(\\frac{\\theta}{2})\\text{ and }\\beta = \\sin(\\frac{\\theta}{2})e^{i\\varphi}, \n",
    "$$\n",
    "where $\\theta$ is a value in the interval $[0,\\pi]$ and $\\varphi$ is a value in the interval $[0,2\\pi)$. Using spherical coordinates we can draw the state on the Bloch sphere following the convention in the image below:\n",
    "\n",
    "<img src=\"https://raw.githubusercontent.com/NVIDIA/cuda-q-academic/main/images/BlochsphereAngles.png\" alt=\"Image of a State on the Bloch Sphere with spherical coordinates indicated\" width=\"200\"/>\n",
    "\n",
    "For example, the state $$\\ket{-} = \\frac{1}{\\sqrt{2}}\\ket{0}-\\frac{1}{\\sqrt{2}}\\ket{1}$$ can be rewritten as \n",
    "$$\n",
    "\\ket{-} = \\cos(\\frac{\\pi}{4})\\ket{0}+\\sin(\\frac{\\pi}{4})e^{i\\pi}\\ket{1},\n",
    "$$\n",
    "where $\\theta = \\frac{\\pi}{2}$ and $\\varphi = \\pi$.\n",
    "For an explanation of how $\\theta$ and $\\varphi$ are found in general, check out this [source](https://davidmeyer.github.io/qc/bloch_sphere.pdf).\n",
    "Once we have found $\\theta$ and $\\varphi$, we can draw the state on the Bloch sphere. In particular, the state $\\ket{-}$ is a vector pointing in the direction of the negative $x$-axis, which gives some explanation for the jargon: \"minus state.\"\n",
    "\n",
    "<img src=\"https://raw.githubusercontent.com/NVIDIA/cuda-q-academic/main/images/BlochsphereMinus.png\" alt=\"Minus state represented on the Bloch Sphere\" width=\"200\"/>\n",
    "\n"
   ]
  },
  {
   "cell_type": "markdown",
   "id": "50d9941b",
   "metadata": {},
   "source": [
    "### 1.2.3 Using CUDA-Q to define and visualize a quantum state\n",
    "\n",
    "We are now ready to use CUDA-Q! \n",
    "\n",
    "> **FAQ:** *What is CUDA-Q?*\n",
    "\n",
    "> **Answer:** [CUDA-Q](https://developer.nvidia.com/cuda-q) is a platform designed for hybrid application development. That is, CUDA-Q allows programming in a heterogeneous environment that leverages not only quantum processors and quantum emulators, but also CPUs and GPUs. CUDA-Q is interoperable with CUDA and the CUDA software ecosystem for GPU-accelerated applications. CUDA-Q consists of both C++ and Python extensions. In these notebooks, we'll use Python. \n",
    "\n",
    " Let's use CUDA-Q to create the quantum states of single qubits and visualize them on the Bloch sphere.  CUDA-Q uses the `cudaq.kernel` decorator on functions to define quantum states, and, as we will see later, CUDA-Q kernels can also define quantum circuits.  "
   ]
  },
  {
   "cell_type": "code",
   "execution_count": 29,
   "id": "15b5ecf2",
   "metadata": {},
   "outputs": [],
   "source": [
    "# Defining the minus state in CUDA-Q\n",
    "\n",
    "# First we define a vector of complex numbers\n",
    "# for the coefficients alpha and beta\n",
    "# of the state |psi> = alpha|0> + beta|1>, \n",
    "# where alpha = 1/sqrt(2)+0j and beta = -1/sqrt(2)+0j\n",
    "c = [complex(np.sqrt(2)/2, 0), complex(-np.sqrt(2)/2,0)]\n",
    " \n",
    "# Define a cudaq.kernel to represent the minus state\n",
    "@cudaq.kernel\n",
    "def minus_state():\n",
    "    q = cudaq.qvector(c)"
   ]
  },
  {
   "cell_type": "markdown",
   "id": "fba8e648",
   "metadata": {},
   "source": [
    "\n",
    "Once we have defined a kernel, we can call upon the `get_state` command to read out the state from the kernel.  Then, we can add this state to a Bloch sphere using `add_to_bloch_sphere` which is displayed with the `show` command and the file can be saved using the `save` option. "
   ]
  },
  {
   "cell_type": "code",
   "execution_count": null,
   "id": "13f3c510",
   "metadata": {},
   "outputs": [],
   "source": [
    "# Visualizing a state in CUDA-Q\n",
    "\n",
    "# Define a sphere object representing the state of the single qubit\n",
    "sphere = cudaq.add_to_bloch_sphere(cudaq.get_state(minus_state))\n",
    "\n",
    "# Display the Bloch sphere\n",
    "cudaq.show(sphere)\n",
    "\n",
    "# Save the Bloch sphere image to a file\n",
    "sphere.save('MinusState.png')\n"
   ]
  },
  {
   "cell_type": "markdown",
   "id": "d5fc3056",
   "metadata": {},
   "source": [
    "**Exercise 1:**  Create a Bloch sphere showing the states: $\\ket{0}, \\ket{1}, \\ket{+}$, and $\\ket{i} = \\frac{1}{\\sqrt{2}}\\ket{0}+\\frac{i}{\\sqrt{2}}\\ket{1}$.\n",
    "\n",
    "Hint: $e^{i\\pi} = -1$ and $e^{i\\frac{\\pi}{2}}=i$.\n",
    "\n",
    ">**CUDA-Q Quick Tip:** The `add_to_bloch_sphere` command can accept a single state as we demonstrated above, or a list of states that can be graphed in an array of separate Bloch spheres. You can read more about this visualization tool [here](https://nvidia.github.io/cuda-quantum/latest/examples/python/visualization.html)."
   ]
  },
  {
   "cell_type": "code",
   "execution_count": null,
   "id": "5debf1e5",
   "metadata": {},
   "outputs": [],
   "source": [
    "# EXERCISE 1\n",
    "\n",
    "# First we define vectors for the coefficients alpha and beta\n",
    "# of the states |0>, |1>, |+>, and |i>, where each state is written\n",
    "# in the form |psi> = alpha|0> + beta|1> . Here alpha and beta are\n",
    "# of the form:\n",
    "# alpha = a_real + (a_imaginary)i \n",
    "# beta = b_real + (b_imaginary)i \n",
    "# with real values for the coefficients \n",
    "# a_real, a_imaginary, b_real, b_imaginary \n",
    "\n",
    "# c0 is a list of complex coefficients for the state |0>\n",
    "c0 = [complex(a_real, a_imaginary), complex(b_real, b_imaginary)] ###FIX_ME### \n",
    "c1 = ###FIX_ME###      # list of complex coefficients for the state |1>\n",
    "c2 = ###FIX_ME###      # list of complex coefficients for the state |+>\n",
    "c3 = ###FIX_ME###      # list of complex coefficients for the state |i>\n",
    "\n",
    "list_of_states = [c0,c1,c2,c3]\n",
    "\n",
    "# Define a cudaq.kernel to represent the state with given coefficients\n",
    "@cudaq.kernel\n",
    "def kernel_for_state(c:list[complex]):\n",
    "    q = cudaq.qvector(c)\n",
    "\n",
    "# Define a list of Bloch spheres, one sphere for each of the 4 states \n",
    "blochSphereList = []  \n",
    "# Generate the 4 states by calling the kernel_for_state kernel for each list of coefficients\n",
    "for c in list_of_states:\n",
    "    sphere = cudaq.add_to_bloch_sphere(cudaq.get_state(kernel_for_state, c))\n",
    "    blochSphereList.append(sphere)  \n",
    "\n",
    "# Display the Bloch spheres side by side in 2 rows and 2 columns\n",
    "cudaq.show(blochSphereList, nrows=2, ncols=2)"
   ]
  },
  {
   "cell_type": "markdown",
   "id": "92a938d1",
   "metadata": {},
   "source": [
    "## 1.3 Writing your first quantum programs\n",
    "\n",
    "Now that we understand qubits and have created quantum state representations in CUDA-Q, let's move on to actual quantum computation. We're ready to write our first quantum program!\n",
    "\n",
    "The general structure of a quantum program is:\n",
    "* Encode information into the quantum state by initializing qubit(s)\n",
    "* Manipulate the quantum state of the qubit(s) with quantum gate(s)\n",
    "* Extract information from the quantum state by measuring the state of the qubit(s)\n",
    "\n",
    "These three steps are outlined in the diagram below:\n",
    "\n",
    "<img src=\"https://raw.githubusercontent.com/NVIDIA/cuda-q-academic/main/images/circuit.png\" alt=\"image of a quantum circuit with the three partsL encode information, manipulate quantum states, extract information\" width=\"200\"/>\n",
    "\n",
    "In this section, we'll look at a few simple examples of quantum programs to illustrate these steps.  Throughout the notebook, we'll apply this template to generate and run more interesting examples.  Let's begin with two very simple quantum programs: a bit flip program and a Hello World program. Through these examples, you'll learn about two other important concepts: measurement and superposition.\n"
   ]
  },
  {
   "cell_type": "markdown",
   "id": "85b8182e",
   "metadata": {},
   "source": [
    "### 1.3.1 Bit Flip\n",
    "\n",
    "Let's walk through the three steps of writing the Bit Flip program in CUDA-Q. This program is a quantum version of the classical `NOT` operation that flips a bit from $0$ to $1$ and vice versa.\n",
    "\n",
    "Outline of the Bit Flip program: Going from $\\ket{0}$ to $\\ket{1}$.\n",
    "* Initialize the zero state\n",
    "* Manipulate the quantum state by applying the bit flip gate (the `x` gate)\n",
    "* Measure the qubit\n",
    "\n",
    "Let's start by defining a kernel and specifying that this kernel only contains one qubit.  \n",
    "\n",
    "> **CUDA-Q Quick Tip:**  The `cudaq.qvector` command has two purposes.  When `cudaq.qvector` accepts a `list` as we saw in the `minus_state` example in the previous section, the kernel is initialized in the state corresponding to the coefficients from the list.  In the example below, `cudaq.qvector` will accept an `int` value and will allocate that number of qubits to the kernel.  These qubits, by default, are initialized in the zero-state."
   ]
  },
  {
   "cell_type": "code",
   "execution_count": null,
   "id": "094ae2e2",
   "metadata": {},
   "outputs": [],
   "source": [
    "# Writing a bit flip program one step at a time\n",
    "# Step 1: Create a kernel with one qubit initialized in the zero state\n",
    "\n",
    "@cudaq.kernel\n",
    "def bitflip(): \n",
    "    # Allocate one qubit to the kernel. It is by default initialized in the zero state\n",
    "    qubit = cudaq.qvector(1)\n",
    "    \n",
    "    # Manipulate the quantum state by applying the bit flip gate (the `x` gate)\n",
    "    # To be completed later in this section\n",
    "    \n",
    "    "
   ]
  },
  {
   "cell_type": "markdown",
   "id": "e1da83c5",
   "metadata": {},
   "source": [
    "Let's check to see that the code above initiated a qubit in the zero state by getting the state and plotting it on the Bloch sphere."
   ]
  },
  {
   "cell_type": "code",
   "execution_count": null,
   "id": "1c91554c",
   "metadata": {},
   "outputs": [],
   "source": [
    "# Visualizing a state of the bitflip kernel before the x gate is applied\n",
    "\n",
    "# Define a sphere object representing the state of the single qubit\n",
    "sphere = cudaq.add_to_bloch_sphere(cudaq.get_state(bitflip))\n",
    "\n",
    "# Display the Bloch sphere\n",
    "cudaq.show(sphere)"
   ]
  },
  {
   "cell_type": "markdown",
   "id": "32c04732",
   "metadata": {},
   "source": [
    "Next we want to manipulate the zero state, $\\ket{0}$, and change it to the one state, $\\ket{1}$.  One way of doing this is by rotating the Bloch sphere 180 degrees around the x-axis.  Mathematically, this can be carried out through matrix multiplication.  Recall that $\\ket{0}=\\begin{pmatrix}1\\\\0\\end{pmatrix}$ and $\\ket{1}=\\begin{pmatrix}0\\\\1\\end{pmatrix}$. Notice that the matrix $X=\\begin{pmatrix}0 & 1 \\\\ 1 & 0 \\end{pmatrix}$ has the property that we're looking for.  Namely, multiplying the zero state by $X$ returns the one state: $$X\\ket{0} = \\ket{1}.$$  \n",
    "\n",
    "In general, we can change a quantum state through multiplication by a unitary matrix. (The definition of a unitary matrix is not critical for this notebook, but if you're curious you can learn more in [chapter 1 of Quantum Computer Science](http://mermin.lassp.cornell.edu/qcomp/CS483.html).) In the context of a quantum program, we refer to matrix multiplication by a unitary matrix $U$ as applying a $U$-gate.   In CUDA-Q, the $X$-gate is implemented with the syntax `x`. \n",
    "\n",
    "> **CUDA-Q Quick Tip:** You can view all the built-in quantum gate operations in CUDA-Q [here](https://nvidia.github.io/cuda-quantum/latest/api/default_ops.html#unitary-operations-on-qubits).\n",
    "\n",
    "Let's go ahead and apply the `x`-gate to the qubit in our kernel.\n",
    "\n"
   ]
  },
  {
   "cell_type": "code",
   "execution_count": 36,
   "id": "7aace69f",
   "metadata": {},
   "outputs": [],
   "source": [
    "# Writing a bit flip program one step at a time\n",
    "# Step 2: Apply the X-gate\n",
    "\n",
    "@cudaq.kernel\n",
    "def bitflip(): \n",
    "    # Allocate 1 qubit initialized in the zero state\n",
    "    qubit = cudaq.qvector(1)\n",
    "    \n",
    "    # Manipulate the quantum state by applying the bit flip gate (the `x` gate)\n",
    "    x(qubit[0]) # Apply the x-gate to the first qubit, which is indexed with 0\n",
    "  \n",
    "   "
   ]
  },
  {
   "cell_type": "markdown",
   "id": "e949f32c",
   "metadata": {},
   "source": [
    "Let's use the `get_state` command again to check that the `bitflip` kernel does what we expect, that is, change the state from $\\ket{0}$ to $\\ket{1}.$"
   ]
  },
  {
   "cell_type": "code",
   "execution_count": null,
   "id": "377a4d09",
   "metadata": {},
   "outputs": [],
   "source": [
    "# Visualizing the action of the bitflip kernel\n",
    "\n",
    "sphere = cudaq.add_to_bloch_sphere(cudaq.get_state(bitflip))\n",
    "cudaq.show(sphere)"
   ]
  },
  {
   "cell_type": "markdown",
   "id": "eaff8357",
   "metadata": {},
   "source": [
    "The process of visualizing the state of a kernel on a Bloch sphere using `get_state` is not very efficient and won't be useful when we have many qubits. Firstly, Bloch spheres can only represent the state of a single qubit.  But also, the `get_state` command may be overkill for the amount of information we can or need to recover from several qubits.  As we'll see in the next lab, to describe the state of $n$ qubits we need to compute $2^n$ probability amplitudes. This may be prohibilitively expensive to compute in terms of time and memory resources.\n",
    "\n",
    "Fortunately, there are other visualization tools that we can use to check the kernels that we create.  Some kernels can be represented as\n",
    "quantum circuit diagrams. CUDA-Q includes the `cudaq.draw` command to generate an ascii image of the circuit diagram of a kernel.  Basically, each row of the circuit diagram represents a qubit. In this case, we only have one qubit, which by default is named `q0` in the diagram. Operations applied to the qubit are shown as boxes and are read from left to right. Our kernel has only one gate, the `x` gate. We'll discuss these diagrams in more detail later after we've seen a few other examples."
   ]
  },
  {
   "cell_type": "code",
   "execution_count": null,
   "id": "381939ac",
   "metadata": {},
   "outputs": [],
   "source": [
    "# Drawing the circuit representation of the bit flip kernel \n",
    "    \n",
    "print(cudaq.draw(bitflip))"
   ]
  },
  {
   "cell_type": "markdown",
   "id": "9d9894a1",
   "metadata": {},
   "source": [
    "> **FAQ:** *What's the difference between a quantum kernel and a quantum circuit?* \n",
    "\n",
    "> **Answer:** Quantum kernels are more general than quantum circuits.  That is, every quantum circuit is a quantum kernel, but not every quantum kernel is a quantum circuit. Quantum kernels are defined as functions that are executed on a quantum processing unit (QPU) or a simulated QPU. Quantum kernels can be combined with classical functions to create quantum-classical applications that can be executed on a heterogeneous system of QPUs, GPUs, and CPUs to solve real-world problems."
   ]
  },
  {
   "cell_type": "markdown",
   "id": "aa1fbded",
   "metadata": {},
   "source": [
    "The final step of our first quantum program is to extract information from the quantum state of the qubit.  This is done with the `sample` command. The sample command runs the kernel and takes a measurement `shots_count`-many times \n",
    "\n",
    "In our example, applying the `x`-gate to the zero state will always result in the one state, unless of course there are errors in the circuit execution.  That's a topic for another day.  Now, we'll assume that all of our kernel executions are error free.  In this case, we would expect to see the one state returned for each kernel execution. Run the cell block below to see the results."
   ]
  },
  {
   "cell_type": "code",
   "execution_count": null,
   "id": "eed84dcc",
   "metadata": {},
   "outputs": [],
   "source": [
    "# Sampling the bit flip kernel\n",
    "shots = 123\n",
    "results = cudaq.sample(bitflip, shots_count=shots)\n",
    "\n",
    "# The output of the sample command looks like a dictionary, but is of a different type\n",
    "print(\"Results from sampling {} times: {}\\n\".format(shots, results))\n",
    "print(\"Although the results appear to be of type dict, \\n the type of the results from the sample \\n command is {}.\\n\".format(type(results)))\n",
    "\n",
    "# Often it will be useful to identify the most probable outcome\n",
    "# and the probability of this outcome\n",
    "most_probable_result = results.most_probable()\n",
    "probability = results.probability(most_probable_result)\n",
    "print(\"Most probable result: \" + most_probable_result)\n",
    "print(\"Measured with probability \" + str(probability), end='\\n\\n')\n"
   ]
  },
  {
   "cell_type": "markdown",
   "id": "3d81d4a3",
   "metadata": {},
   "source": [
    "You may notice that the result of executing the `bitflip` kernel is a (classical) $1$, which is technically a different type than the quantum state $\\ket{1}$.  Let's look at the Hello World example below which will help illustrate what is going on with the `sample` command and how information is extracted from a quantum state."
   ]
  },
  {
   "cell_type": "markdown",
   "id": "98d10d00",
   "metadata": {},
   "source": [
    "> **CUDA-Q Quick Tip:** \n",
    "The `sample` command runs the kernel and takes a measurement `shots_count`-many times. The result of the `sample` command is a `SampleReslult` dictionary of the distribution of the bitstrings resulting from the sampling. \n",
    "To create a standard Python dictionary of type dict from an object (say `sample_results`) of type `cudaq.SampleResult`, you can use a command such as `asDict = {k:v for k,v in sample_results.items()}`."
   ]
  },
  {
   "cell_type": "markdown",
   "id": "3358d45b",
   "metadata": {},
   "source": [
    "### 1.3.3 Hello World example"
   ]
  },
  {
   "cell_type": "markdown",
   "id": "ba3123fa",
   "metadata": {},
   "source": [
    "To get a better appreciation how quantum programs differ from classical programs, let's look at a Hello World program, which revisits the minus state kernel and will give us the opportunity to discuss two important concepts: superposition and measurement.\n",
    "\n",
    "Hello World: Generate and measure the Minus State\n",
    "* Initialize one qubit in the one-state\n",
    "* Manipulate the quantum state by transforming it into the minus state \n",
    "* Extract information from the quantum state by taking measurement(s)"
   ]
  },
  {
   "cell_type": "markdown",
   "id": "ff24b78b",
   "metadata": {},
   "source": [
    "We already created a kernel (`minus_state`) to initialize the minus state by passing a list of coefficients to the `cudaq.qvector` command.  There are other ways to initialize a state if we know the gate operations that generate it. The Hadamard operator applied to $\\ket{1}$ generates the state $\\ket{-}$. "
   ]
  },
  {
   "cell_type": "markdown",
   "id": "1fcf17d7",
   "metadata": {},
   "source": [
    "The Hadamard operator is the matrix $$H =  \\frac{1}{\\sqrt{2}}\\begin{pmatrix} 1&  1 \\\\ 1 &  -1\\end{pmatrix}.$$\n",
    "\n",
    "Notice that if we multiply $H$ and $\\ket{1}$ we get $\\ket{-}$:  \n",
    "\n",
    "$$ H\\ket{1} =  \\frac{1}{\\sqrt{2}}\\begin{pmatrix} 1&  1 \\\\ 1 &  -1\\end{pmatrix}\\begin{pmatrix} 0 \\\\ 1 \\end{pmatrix} = \\frac{1}{\\sqrt{2}}\\begin{pmatrix} 1 \\\\   -1\\end{pmatrix} = \\ket{-}.$$\n",
    "\n",
    "This calculation suggests a way to generate the minus state: \n",
    "\n",
    "* First intialize the one state and then apply the Hadamard gate using the CUDA-Q command `h`.  \n",
    "* This leaves the question: how do we initialize the one state? The answer is implicit in the previous example: apply the `x`-gate to the zero-state.  \n",
    "\n",
    "We now have a plan, so let's code it up."
   ]
  },
  {
   "cell_type": "code",
   "execution_count": null,
   "id": "cd5c8b45",
   "metadata": {},
   "outputs": [],
   "source": [
    "# Kernel for the minus state\n",
    "\n",
    "@cudaq.kernel\n",
    "def minus_kernel():\n",
    "    # Allocate a qubit\n",
    "    qvector = cudaq.qvector(1)\n",
    "    \n",
    "    # Initialize the state |1>\n",
    "    x(qvector)\n",
    "    \n",
    "    # Apply the Hadamard gate\n",
    "    h(qvector)\n",
    "    \n",
    "# Draw the circuit to check our work\n",
    "print(cudaq.draw(minus_kernel))"
   ]
  },
  {
   "cell_type": "markdown",
   "id": "dd6a9a66",
   "metadata": {},
   "source": [
    "**EXERCISE 2**: Edit the code block below to check your work by graphing the Bloch sphere of the state generated by `minus_kernel`."
   ]
  },
  {
   "cell_type": "code",
   "execution_count": null,
   "id": "65459fcf",
   "metadata": {},
   "outputs": [],
   "source": [
    "# EXERCISE 2\n",
    "\n",
    "# Visualizing the action of the minus_kernel\n",
    "\n",
    "sphere = ##FIX_ME##\n",
    "cudaq.show(sphere)"
   ]
  },
  {
   "cell_type": "markdown",
   "id": "80a156d7",
   "metadata": {},
   "source": [
    "Let's sample the `minus_kernel` and examine the results."
   ]
  },
  {
   "cell_type": "code",
   "execution_count": null,
   "id": "6455db2a",
   "metadata": {},
   "outputs": [],
   "source": [
    "# Sampling the minus kernel\n",
    "shots = 123\n",
    "results = cudaq.sample(minus_kernel, shots_count=shots)\n",
    "print(\"Results from sampling {} times: {}\".format(shots, results))\n",
    "\n",
    "# Often it will be useful to identify the most probable outcome\n",
    "# and the probability of this outcome\n",
    "most_probable_result = results.most_probable()\n",
    "probability = results.probability(most_probable_result)\n",
    "print(\"Most probable result: \" + most_probable_result)\n",
    "print(\"Measured with probability \" + str(probability), end='\\n\\n')"
   ]
  },
  {
   "cell_type": "markdown",
   "id": "fd5eaaeb",
   "metadata": {},
   "source": [
    "Notice how these results differ from what we saw in the Bit Flip program.  We'll investigate what is going on in this example in more detail in the following section."
   ]
  },
  {
   "cell_type": "markdown",
   "id": "dcb9a707",
   "metadata": {},
   "source": [
    "## 1.4 Intepret the results of a quantum program"
   ]
  },
  {
   "cell_type": "markdown",
   "id": "6cab4300",
   "metadata": {},
   "source": [
    "### 1.4.1 Born's Rule\n",
    "\n",
    "Let's further explore the `minus_kernel` example from the previous section to better understand the `sample` command.  We've copied the codeblock from the previous section here, but we've edited the `shots` variable to equal $1$. Execute the cell block below a couple of times and see if you notice anything.\n"
   ]
  },
  {
   "cell_type": "code",
   "execution_count": null,
   "id": "ef6aabbc",
   "metadata": {},
   "outputs": [],
   "source": [
    "# Sampling the minus kernel\n",
    "shots = 1\n",
    "results = cudaq.sample(minus_kernel, shots_count=shots)\n",
    "print(\"Results from sampling {} time: {}\".format(shots, results))\n"
   ]
  },
  {
   "cell_type": "markdown",
   "id": "b53c37df",
   "metadata": {},
   "source": [
    "\n",
    " What do you notice when you run this code block a couple of times?  The result varies.  This is because quantum systems are inherently probabilistic in nature.  You might see that roughly half of the time the outcome will be $0$ and the remaining times, the outcome will be a $1$.  This non-deterministic behavior can be explained by *Born's Rule*.    \n",
    " \n",
    " **Born's Rule** roughly states that if a qubit is in the quantum state $\\ket{\\psi}=\\alpha\\ket{0}+\\beta\\ket{1}$ with $\\alpha$ and $\\beta$ complex values satisfying $|\\alpha|^2+|\\beta|^2 = 1$, then when measured, the outcome will be $0$ with probability $|\\alpha|^2$ and $1$ with probability $|\\beta|^2$. Furthermore upon measurement, the state of the qubit collapses; that is, the state of the qubit will change to $\\ket{0}$ if a $0$ is measured and the qubit will change to $\\ket{1}$ if a $1$ is measured."
   ]
  },
  {
   "cell_type": "markdown",
   "id": "628fd71d",
   "metadata": {},
   "source": [
    "**Exercise 3:** Based on Born's rule, what do you expect the probability of measuring the minus state as $0$ to be?  How does this compare to the results of your execution of the `minus_kernel` in the cell block above?  You might notice that the percentage of times you measure a $0$ is close, but not exactly equal to what Born's rule would predict.  Edit the `###FIX_ME###` line in the code block below to achieve sampling results more closely equal Born's rules prediction.\n",
    "\n",
    "*Hint*: Think about the [Central Limit Theorem for Proportions](https://2012books.lardbucket.org/books/beginning-statistics/s10-03-the-sample-proportion.html) from statistics. What do you notice as you increase the number of shots?"
   ]
  },
  {
   "cell_type": "code",
   "execution_count": null,
   "id": "c25da70d",
   "metadata": {},
   "outputs": [],
   "source": [
    "# EXERCISE 3\n",
    "# Sampling the minus kernel\n",
    "shots = ###FIX_ME###\n",
    "results = cudaq.sample(minus_kernel, shots_count=shots)\n",
    "print(\"Results from sampling {} times: {}\".format(shots, results))\n",
    "\n",
    "# Often it will be useful to identify the most probable outcome\n",
    "# and the probability of this outcome\n",
    "most_probable_result = results.most_probable()\n",
    "probability = results.probability(most_probable_result)\n",
    "print(\"Most probable result: \" + most_probable_result)\n",
    "print(\"Measured with probability \" + str(probability), end='\\n\\n')"
   ]
  },
  {
   "cell_type": "markdown",
   "id": "80ff7e02",
   "metadata": {},
   "source": [
    "### 1.4.2 Superposition\n",
    "\n",
    "The concept that distinguishes the Bit Flip program from the Hello World program is superposition.  \n",
    "\n",
    "**Superposition** is one of the fundamental concepts in quantum mechanics that differentiates quantum computation from classical computation.  A state $\\ket{\\psi}=\\alpha\\ket{0}+\\beta\\ket{1}$ is in superposition, if both $\\alpha$ and $\\beta$ are non-zero.  In other words, $\\ket{\\psi}$ has a non-zero probability of being measured as a $0$, but also a non-zero probability of being measured as a $1$.  It's important to note that if qubit is in a state of superposition, when it is measured, it will collapse to either $\\ket{0}$ or $\\ket{1}$ and will no longer be in superposition.\n",
    "\n",
    "The $\\ket{-}$ state that we examined in the previous section is a state in superposition with the likelihood of measuring a $0$ to be $50\\%$ and the likelihood of measuring a $1$ to be $50\\%$.  There are other states that are distinct from $\\ket{-}$ that are also in a state of equal superposition.  Let's take a look at one of those, the plus state (i.e., $\\ket{+}$). In addition to creating and sampling a kernel for the plus state in the code block below, we've used this example to illustrate two other CUDA-Q programming tips:"
   ]
  },
  {
   "cell_type": "markdown",
   "id": "aa233909",
   "metadata": {},
   "source": [
    ">**CUDA-Q Quick Tip:** When allocating just one qubit, you can use `qubit()` in place of `qvector(1)`.\n",
    "\n",
    ">**CUDA-Q Quick Tip:** By default, when not specified, qubit measurements are conducted on the standard computational basis, which is along the $z$-axis.  In the cell block below, we have added the measurement explicitly with the `mz` command. There are other measurement options `mx` and `my` built into CUDA-Q that we'll experiment with in the next section."
   ]
  },
  {
   "cell_type": "code",
   "execution_count": null,
   "id": "fac8fd81",
   "metadata": {},
   "outputs": [],
   "source": [
    "\n",
    "# Kernel for the plus state\n",
    "@cudaq.kernel\n",
    "def plus_kernel():\n",
    "    \n",
    "    # Allocate a qubit\n",
    "    # Initialize the state |0>\n",
    "    one_qubit = cudaq.qubit()    \n",
    "    # Apply the Hadamard gate\n",
    "    h(one_qubit)\n",
    " \n",
    "    # Specify the measurement\n",
    "    mz(one_qubit)\n",
    "    \n",
    "    \n",
    "# Draw the circuit to check our work\n",
    "print(cudaq.draw(plus_kernel))\n",
    "\n",
    "# Sampling the minus kernel\n",
    "shots = 1000\n",
    "results = cudaq.sample(plus_kernel, shots_count=shots)\n",
    "print(results)\n",
    "\n",
    "# Often it will be useful to identify the most probable outcome\n",
    "# and the probability of this outcome\n",
    "most_probable_result = results.most_probable()\n",
    "probability = results.probability(most_probable_result)\n",
    "print(\"Most probable result: \" + most_probable_result)\n",
    "print(\"Measured with probability \" + str(probability), end='\\n\\n')\n"
   ]
  },
  {
   "cell_type": "markdown",
   "id": "bd12b584",
   "metadata": {},
   "source": [
    "### 1.5 More about Measurement (optional)"
   ]
  },
  {
   "cell_type": "markdown",
   "id": "aa95599a",
   "metadata": {},
   "source": [
    "How do the results of sampling the `plus_kernel` compare to those obtained for the `minus_kernel` in the previous section?  What does this seem to apply concerning our ability to distinguish $\\ket{+}$ from $\\ket{-}$?  \n",
    "\n",
    "If qubits store information, we would like to be able distinguish two qubits that might be storing different information. For example we might want to distinguish the one-qubit state $\\ket{+}$ from the state $\\ket{-}$. We'll resolve this issue in the next example by changing the way we measure the two qubits."
   ]
  },
  {
   "cell_type": "markdown",
   "id": "27f24170",
   "metadata": {},
   "source": [
    "**Exercise 4:** Create two quantum kernels to sample.  The first will prepare the $\\ket{+}$ state and then measure with `mx`.  The second kernel will prepare the $\\ket{-}$ state and then measure with `mx`.  "
   ]
  },
  {
   "cell_type": "code",
   "execution_count": 17,
   "id": "a9659851",
   "metadata": {},
   "outputs": [],
   "source": [
    "# EXERCISE 4\n",
    "\n",
    "shots = 1000\n",
    "\n",
    "@cudaq.kernel\n",
    "def plus_measure_x():\n",
    "    ## EDIT CODE BELOW THIS LINE\n",
    "    \n",
    "\n",
    "    \n",
    "    ## EDIT CODE ABOVE THIS LINE\n",
    "\n",
    "@cudaq.kernel\n",
    "def minus_measure_x():\n",
    "    ## EDIT CODE BELOW THIS LINE\n",
    "    \n",
    "\n",
    "    ## EDIT CODE ABOVE THIS LINE\n",
    "    \n",
    "results_plus_measure_x = cudaq.sample(plus_measure_x, shots_count=shots)\n",
    "print(\"Results from sampling the plus_hadamard kernel {} times: {}\".format(shots, results_plus_measure_x))\n",
    "\n",
    "results_minus_measure_x = cudaq.sample(minus_measure_x, shots_count=shots)\n",
    "print(\"Results from sampling the minus_hadamard kernel {} times: {}\".format(shots, results_minus_measure_x))"
   ]
  },
  {
   "cell_type": "markdown",
   "id": "eae0ba49",
   "metadata": {},
   "source": [
    "Notice that the results dictionaries from sampling the $\\ket{+}$ and $\\ket{-}$, respectively differ from one another.  And thus, by switching to measurement with the `mx` command we are able to distinguish these two states. However, there is a drawback &#8212; measuring with `mx` doesn't allow us to distinguish $\\ket{0}$ from $\\ket{1}$, because of the Uncertainty Principle in quantum mechanics. Test this claim out for yourself by creating and sampling kernels for the $\\ket{0}$ and $\\ket{1}$ states using the `mx` measurements.\n",
    "\n",
    "What is happening when we take a measurement?  What distinguishes the `mz` command from the `mx` command?  Abstractly when we are measuring a state $\\ket{\\psi}=\\alpha\\ket{0}+\\beta\\ket{1}$ with `mz`, we are applying Born's rule to the state $\\ket{\\psi}$. This act of measurement will collapse the state to $\\ket{0}$, with a probability $|\\alpha|^2$  and will collapse the state of the qubit to  $\\ket{1}$ with probability $|\\beta|^2$. You can graphically visualize this collapse under a `mz` measurement on the Bloch sphere as projecting the state $\\ket{\\psi}$ onto the $z$ axis.  \n",
    "\n",
    "Analogously, when measuring with `mx` we will be collapsing our state $\\ket{\\psi}$ to either $\\ket{+}$ or $\\ket{-}$ along the $x$-axis of the Bloch sphere.  We can use Born's Rule for this measurement, too.  The only difference is now instead of writing $\\ket{\\psi}$ in terms of computational basis states $\\ket{0}$ and $\\ket{1}$, we'll find coefficients $\\gamma$ and $\\delta$ so that $\\ket{\\psi}=\\gamma\\ket{+}+\\delta\\ket{-}$. With the `mx`measurement, the probabilities of measuring a $0$ and $1$ are determined by $|\\gamma|^2$ and $|\\delta|^2$, respectively. \n",
    "So for the case of $\\ket{+}$, the probability of measuring $0$ with `mx` is $100\\%$, and for $\\ket{-}$ the probability of measuring a $1$ with `mx` is $100\\%$. Therefore, `mx` gives us a way to distinguish $\\ket{+}$ and $\\ket{-}$ with only one shot, assuming there is no noise.\n",
    "\n",
    "For the remainder of this series of labs, we'll only be measuring with `mz`. To learn more about measurement, check out [chapter 4 of Introduction to Quantum Information Science](https://qubit.guide/4.1-hilbert-spaces-briefly) or [section 2.2.3 of Introduction to Classical and Quantum Computing](https://www.thomaswong.net/introduction-to-classical-and-quantum-computing-1e4p.pdf)."
   ]
  },
  {
   "cell_type": "markdown",
   "id": "1bef4cf6",
   "metadata": {},
   "source": [
    "## Next\n",
    "\n",
    "There's not a whole lot we can do with just one qubit.  In fact, one of the fundamental quantum properites (entanglement) requires more than one qubit.  Let's move to Lab 2, where we start programming with more than one qubit and learn about entanglement."
   ]
  },
  {
   "cell_type": "markdown",
   "id": "7f0ba698",
   "metadata": {},
   "source": [
    "![](images/nvidia-logo.png)"
   ]
  }
 ],
 "metadata": {
  "kernelspec": {
   "display_name": "Python 3",
   "language": "python",
   "name": "python3"
  },
  "language_info": {
   "codemirror_mode": {
    "name": "ipython",
    "version": 3
   },
   "file_extension": ".py",
   "mimetype": "text/x-python",
   "name": "python",
   "nbconvert_exporter": "python",
   "pygments_lexer": "ipython3",
   "version": "3.9.6"
  }
 },
 "nbformat": 4,
 "nbformat_minor": 5
}
